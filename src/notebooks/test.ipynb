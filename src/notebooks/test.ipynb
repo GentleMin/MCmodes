{
 "cells": [
  {
   "cell_type": "code",
   "execution_count": 1,
   "id": "earned-error",
   "metadata": {
    "ExecuteTime": {
     "end_time": "2021-11-11T12:56:48.344879Z",
     "start_time": "2021-11-11T12:56:48.341690Z"
    }
   },
   "outputs": [],
   "source": [
    "import sys\n",
    "sys.path.append('../../QuICC/Python/')\n",
    "sys.path.append('../')"
   ]
  },
  {
   "cell_type": "code",
   "execution_count": 3,
   "id": "sweet-killing",
   "metadata": {
    "ExecuteTime": {
     "end_time": "2021-11-11T12:57:26.683624Z",
     "start_time": "2021-11-11T12:57:26.680606Z"
    }
   },
   "outputs": [],
   "source": [
    "import matplotlib.pyplot as plt\n",
    "import quicc.geometry.worland.worland_basis as wb\n",
    "from operators.polynomials import *\n",
    "import operators.polynomials as poly"
   ]
  },
  {
   "cell_type": "code",
   "execution_count": 85,
   "id": "aerial-cattle",
   "metadata": {
    "ExecuteTime": {
     "end_time": "2021-11-11T12:48:35.831817Z",
     "start_time": "2021-11-11T12:48:35.826626Z"
    }
   },
   "outputs": [
    {
     "data": {
      "text/plain": [
       "2.000000000000015"
      ]
     },
     "execution_count": 85,
     "metadata": {},
     "output_type": "execute_result"
    }
   ],
   "source": [
    "rg = wb.worland_grid(20)\n",
    "val = wb.worland_poly(10, 3, 20)\n",
    "wt = wb.worland_weight(0, 20)\n",
    "(val**2*wt).sum()"
   ]
  },
  {
   "cell_type": "code",
   "execution_count": 7,
   "id": "boring-protocol",
   "metadata": {
    "ExecuteTime": {
     "end_time": "2021-11-11T12:57:52.855203Z",
     "start_time": "2021-11-11T12:57:52.693132Z"
    }
   },
   "outputs": [
    {
     "data": {
      "text/plain": [
       "[<matplotlib.lines.Line2D at 0x12d283b80>]"
      ]
     },
     "execution_count": 7,
     "metadata": {},
     "output_type": "execute_result"
    },
    {
     "data": {
      "image/png": "[encoded data removed]",
      "text/plain": [
       "<Figure size 432x288 with 1 Axes>"
      ]
     },
     "metadata": {
      "needs_background": "light"
     },
     "output_type": "display_data"
    }
   ],
   "source": [
    "plt.plot(rg, val)"
   ]
  },
  {
   "cell_type": "code",
   "execution_count": null,
   "id": "textile-latter",
   "metadata": {},
   "outputs": [],
   "source": [
    "np.sqrt((np.cos(np.pi*(np.arange(0,2*nr)+0.5)/(2*nr)) + 1.0)/2.0)"
   ]
  },
  {
   "cell_type": "code",
   "execution_count": 5,
   "id": "greatest-underground",
   "metadata": {
    "ExecuteTime": {
     "end_time": "2021-11-11T12:57:38.595314Z",
     "start_time": "2021-11-11T12:57:38.591966Z"
    }
   },
   "outputs": [],
   "source": [
    "def grid(nr):\n",
    "    return np.cos(np.pi/2*(np.arange(nr-1,-1,-1)+0.5)/nr)\n",
    "def weight(nr):\n",
    "    return np.pi/(2*nr)"
   ]
  },
  {
   "cell_type": "code",
   "execution_count": 19,
   "id": "geological-lloyd",
   "metadata": {
    "ExecuteTime": {
     "end_time": "2021-11-11T13:00:27.482411Z",
     "start_time": "2021-11-11T13:00:27.477664Z"
    }
   },
   "outputs": [
    {
     "data": {
      "text/plain": [
       "0.999999999999941"
      ]
     },
     "execution_count": 19,
     "metadata": {},
     "output_type": "execute_result"
    }
   ],
   "source": [
    "rg = grid(100)\n",
    "val = poly._worland(65, 60, rg)\n",
    "wt = weight(100)\n",
    "(val**2*wt).sum()"
   ]
  },
  {
   "cell_type": "code",
   "execution_count": null,
   "id": "comic-theory",
   "metadata": {},
   "outputs": [],
   "source": []
  }
 ],
 "metadata": {
  "kernelspec": {
   "display_name": "Python 3",
   "language": "python",
   "name": "python3"
  },
  "language_info": {
   "codemirror_mode": {
    "name": "ipython",
    "version": 3
   },
   "file_extension": ".py",
   "mimetype": "text/x-python",
   "name": "python",
   "nbconvert_exporter": "python",
   "pygments_lexer": "ipython3",
   "version": "3.9.7"
  },
  "toc": {
   "base_numbering": 1,
   "nav_menu": {},
   "number_sections": true,
   "sideBar": true,
   "skip_h1_title": false,
   "title_cell": "Table of Contents",
   "title_sidebar": "Contents",
   "toc_cell": false,
   "toc_position": {},
   "toc_section_display": true,
   "toc_window_display": false
  },
  "varInspector": {
   "cols": {
    "lenName": 16,
    "lenType": 16,
    "lenVar": 40
   },
   "kernels_config": {
    "python": {
     "delete_cmd_postfix": "",
     "delete_cmd_prefix": "del ",
     "library": "var_list.py",
     "varRefreshCmd": "print(var_dic_list())"
    },
    "r": {
     "delete_cmd_postfix": ") ",
     "delete_cmd_prefix": "rm(",
     "library": "var_list.r",
     "varRefreshCmd": "cat(var_dic_list()) "
    }
   },
   "types_to_exclude": [
    "module",
    "function",
    "builtin_function_or_method",
    "instance",
    "_Feature"
   ],
   "window_display": false
  }
 },
 "nbformat": 4,
 "nbformat_minor": 5
}
